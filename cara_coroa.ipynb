{
  "nbformat": 4,
  "nbformat_minor": 0,
  "metadata": {
    "colab": {
      "name": "ex1_probabilidade.ipynb",
      "provenance": []
    },
    "kernelspec": {
      "name": "python3",
      "display_name": "Python 3"
    },
    "language_info": {
      "name": "python"
    }
  },
  "cells": [
    {
      "cell_type": "code",
      "metadata": {
        "id": "F7yyhOl3xb8r"
      },
      "source": [
        "import random\n",
        "import matplotlib.pyplot as plt\n",
        "import math"
      ],
      "execution_count": 2,
      "outputs": []
    },
    {
      "cell_type": "code",
      "metadata": {
        "id": "EuzQJYwD_0eU"
      },
      "source": [
        "def random_coin():\n",
        "  return random.choice([\"cara\",\"coroa\"])"
      ],
      "execution_count": 3,
      "outputs": []
    },
    {
      "cell_type": "code",
      "metadata": {
        "colab": {
          "base_uri": "https://localhost:8080/"
        },
        "id": "n4LRz7fDANEj",
        "outputId": "075925c9-4afa-4fda-99cd-9edbc744c718"
      },
      "source": [
        "ambas_cara = 0\n",
        "primeira_cara = 0\n",
        "\n",
        "random.seed(0)\n",
        "for _ in range(10000):\n",
        "  primeira = random_coin()\n",
        "  segunda = random_coin()\n",
        "  if primeira == \"cara\":\n",
        "    primeira_cara += 1\n",
        "  if primeira == \"cara\" and segunda == \"cara\":\n",
        "    ambas_cara += 1\n",
        "\n",
        "print(\"P(ambas cara | primeira cara):\", round(ambas_cara / primeira_cara, 1))"
      ],
      "execution_count": 6,
      "outputs": [
        {
          "output_type": "stream",
          "text": [
            "P(ambas cara | primeira cara): 0.5\n"
          ],
          "name": "stdout"
        }
      ]
    }
  ]
}