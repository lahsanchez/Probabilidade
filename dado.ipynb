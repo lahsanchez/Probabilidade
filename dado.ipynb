{
  "nbformat": 4,
  "nbformat_minor": 0,
  "metadata": {
    "colab": {
      "name": "dado.ipynb",
      "provenance": [],
      "collapsed_sections": []
    },
    "kernelspec": {
      "name": "python3",
      "display_name": "Python 3"
    },
    "language_info": {
      "name": "python"
    }
  },
  "cells": [
    {
      "cell_type": "code",
      "metadata": {
        "id": "IoTpFDLNLjBx"
      },
      "source": [
        "import random \n",
        "import matplotlib.pyplot as plt \n",
        "import math"
      ],
      "execution_count": 17,
      "outputs": []
    },
    {
      "cell_type": "code",
      "metadata": {
        "colab": {
          "base_uri": "https://localhost:8080/"
        },
        "id": "pfHAJNkXcYIp",
        "outputId": "792dc761-ebbe-47c6-bbf5-906fc97e52a8"
      },
      "source": [
        "def random_coin():\n",
        "  return random.choice([1, 2, 3, 4, 5, 6])\n",
        "a = 5\n",
        "b = 9\n",
        "c = 2\n",
        "total = 6*6\n",
        "for _ in range(10000):\n",
        "  primeira=random_coin()\n",
        "  segunda=random_coin()\n",
        "\n",
        "soma = primeira + segunda\n",
        "\n",
        "resultado1 = a/total\n",
        "print(resultado1)\n",
        "\n",
        "resultado2 = b/total\n",
        "print(resultado2)\n",
        "\n",
        "resultado3 = c/total\n",
        "print(resultado3)\n",
        "\n",
        "p_condicional= c/b\n",
        "print(p_condicional)"
      ],
      "execution_count": 49,
      "outputs": [
        {
          "output_type": "stream",
          "text": [
            "0.1388888888888889\n",
            "0.25\n",
            "0.05555555555555555\n",
            "0.2222222222222222\n"
          ],
          "name": "stdout"
        }
      ]
    }
  ]
}