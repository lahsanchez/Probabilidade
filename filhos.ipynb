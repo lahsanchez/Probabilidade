{
  "nbformat": 4,
  "nbformat_minor": 0,
  "metadata": {
    "colab": {
      "name": "filhos.ipynb",
      "provenance": []
    },
    "kernelspec": {
      "name": "python3",
      "display_name": "Python 3"
    },
    "language_info": {
      "name": "python"
    }
  },
  "cells": [
    {
      "cell_type": "code",
      "metadata": {
        "id": "DC3iPJWn2ppp"
      },
      "source": [
        "import random\n",
        "import matplotlib.pyplot as plt\n",
        "import math"
      ],
      "execution_count": 1,
      "outputs": []
    },
    {
      "cell_type": "code",
      "metadata": {
        "id": "8OeL0riJ2v_v"
      },
      "source": [
        "def random_coin():\n",
        "  return random.choice([\"menino\",\"menina\"])"
      ],
      "execution_count": 2,
      "outputs": []
    },
    {
      "cell_type": "code",
      "metadata": {
        "colab": {
          "base_uri": "https://localhost:8080/"
        },
        "id": "lM_F_iC323ft",
        "outputId": "a0d0f2fb-9dbb-40b1-81c2-c19c471c3045"
      },
      "source": [
        "p = 1\n",
        "a = 1/4\n",
        "b = 3/4\n",
        "\n",
        "for _ in range(10000):\n",
        "  primeira=random_coin()\n",
        "  segunda=random_coin()\n",
        "\n",
        "p_total = ((p*(a))/b)\n",
        "print(p_total)"
      ],
      "execution_count": 3,
      "outputs": [
        {
          "output_type": "stream",
          "text": [
            "0.3333333333333333\n"
          ],
          "name": "stdout"
        }
      ]
    }
  ]
}